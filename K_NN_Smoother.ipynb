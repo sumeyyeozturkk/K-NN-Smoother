{
  "nbformat": 4,
  "nbformat_minor": 0,
  "metadata": {
    "colab": {
      "name": "K-NN-Smoother.ipynb",
      "provenance": [],
      "collapsed_sections": []
    },
    "kernelspec": {
      "display_name": "Python 3",
      "name": "python3"
    }
  },
  "cells": [
    {
      "cell_type": "code",
      "metadata": {
        "id": "9mGxBjqPoS1W"
      },
      "source": [
        "import pandas as pd\n",
        "import numpy as np\n",
        "import matplotlib.pyplot as plt\n",
        "import warnings\n",
        "import random\n",
        "import operator\n",
        "warnings.filterwarnings('ignore')\n",
        "from random import randrange\n"
      ],
      "execution_count": null,
      "outputs": []
    },
    {
      "cell_type": "code",
      "metadata": {
        "colab": {
          "base_uri": "https://localhost:8080/",
          "height": 221
        },
        "id": "bJRQ0D9xoY0o",
        "outputId": "525063ea-a2a4-4d29-883b-9a835c9929e3"
      },
      "source": [
        "path = \"/content/winequality-red.csv\"\n",
        "wine_data = pd.read_csv(path,sep=\";\")\n",
        "wine_data.head()"
      ],
      "execution_count": null,
      "outputs": [
        {
          "output_type": "execute_result",
          "data": {
            "text/html": [
              "<div>\n",
              "<style scoped>\n",
              "    .dataframe tbody tr th:only-of-type {\n",
              "        vertical-align: middle;\n",
              "    }\n",
              "\n",
              "    .dataframe tbody tr th {\n",
              "        vertical-align: top;\n",
              "    }\n",
              "\n",
              "    .dataframe thead th {\n",
              "        text-align: right;\n",
              "    }\n",
              "</style>\n",
              "<table border=\"1\" class=\"dataframe\">\n",
              "  <thead>\n",
              "    <tr style=\"text-align: right;\">\n",
              "      <th></th>\n",
              "      <th>fixed acidity</th>\n",
              "      <th>volatile acidity</th>\n",
              "      <th>citric acid</th>\n",
              "      <th>residual sugar</th>\n",
              "      <th>chlorides</th>\n",
              "      <th>free sulfur dioxide</th>\n",
              "      <th>total sulfur dioxide</th>\n",
              "      <th>density</th>\n",
              "      <th>pH</th>\n",
              "      <th>sulphates</th>\n",
              "      <th>alcohol</th>\n",
              "      <th>quality</th>\n",
              "    </tr>\n",
              "  </thead>\n",
              "  <tbody>\n",
              "    <tr>\n",
              "      <th>0</th>\n",
              "      <td>7.4</td>\n",
              "      <td>0.70</td>\n",
              "      <td>0.00</td>\n",
              "      <td>1.9</td>\n",
              "      <td>0.076</td>\n",
              "      <td>11.0</td>\n",
              "      <td>34.0</td>\n",
              "      <td>0.9978</td>\n",
              "      <td>3.51</td>\n",
              "      <td>0.56</td>\n",
              "      <td>9.4</td>\n",
              "      <td>5</td>\n",
              "    </tr>\n",
              "    <tr>\n",
              "      <th>1</th>\n",
              "      <td>7.8</td>\n",
              "      <td>0.88</td>\n",
              "      <td>0.00</td>\n",
              "      <td>2.6</td>\n",
              "      <td>0.098</td>\n",
              "      <td>25.0</td>\n",
              "      <td>67.0</td>\n",
              "      <td>0.9968</td>\n",
              "      <td>3.20</td>\n",
              "      <td>0.68</td>\n",
              "      <td>9.8</td>\n",
              "      <td>5</td>\n",
              "    </tr>\n",
              "    <tr>\n",
              "      <th>2</th>\n",
              "      <td>7.8</td>\n",
              "      <td>0.76</td>\n",
              "      <td>0.04</td>\n",
              "      <td>2.3</td>\n",
              "      <td>0.092</td>\n",
              "      <td>15.0</td>\n",
              "      <td>54.0</td>\n",
              "      <td>0.9970</td>\n",
              "      <td>3.26</td>\n",
              "      <td>0.65</td>\n",
              "      <td>9.8</td>\n",
              "      <td>5</td>\n",
              "    </tr>\n",
              "    <tr>\n",
              "      <th>3</th>\n",
              "      <td>11.2</td>\n",
              "      <td>0.28</td>\n",
              "      <td>0.56</td>\n",
              "      <td>1.9</td>\n",
              "      <td>0.075</td>\n",
              "      <td>17.0</td>\n",
              "      <td>60.0</td>\n",
              "      <td>0.9980</td>\n",
              "      <td>3.16</td>\n",
              "      <td>0.58</td>\n",
              "      <td>9.8</td>\n",
              "      <td>6</td>\n",
              "    </tr>\n",
              "    <tr>\n",
              "      <th>4</th>\n",
              "      <td>7.4</td>\n",
              "      <td>0.70</td>\n",
              "      <td>0.00</td>\n",
              "      <td>1.9</td>\n",
              "      <td>0.076</td>\n",
              "      <td>11.0</td>\n",
              "      <td>34.0</td>\n",
              "      <td>0.9978</td>\n",
              "      <td>3.51</td>\n",
              "      <td>0.56</td>\n",
              "      <td>9.4</td>\n",
              "      <td>5</td>\n",
              "    </tr>\n",
              "  </tbody>\n",
              "</table>\n",
              "</div>"
            ],
            "text/plain": [
              "   fixed acidity  volatile acidity  citric acid  ...  sulphates  alcohol  quality\n",
              "0            7.4              0.70         0.00  ...       0.56      9.4        5\n",
              "1            7.8              0.88         0.00  ...       0.68      9.8        5\n",
              "2            7.8              0.76         0.04  ...       0.65      9.8        5\n",
              "3           11.2              0.28         0.56  ...       0.58      9.8        6\n",
              "4            7.4              0.70         0.00  ...       0.56      9.4        5\n",
              "\n",
              "[5 rows x 12 columns]"
            ]
          },
          "metadata": {
            "tags": []
          },
          "execution_count": 49
        }
      ]
    },
    {
      "cell_type": "code",
      "metadata": {
        "id": "fFD_BL3-lu1U"
      },
      "source": [
        "X = wine_data.drop('quality',axis=1)\n",
        "Y = wine_data['quality']"
      ],
      "execution_count": null,
      "outputs": []
    },
    {
      "cell_type": "code",
      "metadata": {
        "colab": {
          "base_uri": "https://localhost:8080/"
        },
        "id": "-keMtxhmVijp",
        "outputId": "65c65cff-3516-4542-d994-0c64136f49ae"
      },
      "source": [
        "wine_data_arr = np.array(wine_data)\n",
        "wine_data_arr"
      ],
      "execution_count": null,
      "outputs": [
        {
          "output_type": "execute_result",
          "data": {
            "text/plain": [
              "array([[ 7.4  ,  0.7  ,  0.   , ...,  0.56 ,  9.4  ,  5.   ],\n",
              "       [ 7.8  ,  0.88 ,  0.   , ...,  0.68 ,  9.8  ,  5.   ],\n",
              "       [ 7.8  ,  0.76 ,  0.04 , ...,  0.65 ,  9.8  ,  5.   ],\n",
              "       ...,\n",
              "       [ 6.3  ,  0.51 ,  0.13 , ...,  0.75 , 11.   ,  6.   ],\n",
              "       [ 5.9  ,  0.645,  0.12 , ...,  0.71 , 10.2  ,  5.   ],\n",
              "       [ 6.   ,  0.31 ,  0.47 , ...,  0.66 , 11.   ,  6.   ]])"
            ]
          },
          "metadata": {
            "tags": []
          },
          "execution_count": 50
        }
      ]
    },
    {
      "cell_type": "markdown",
      "metadata": {
        "id": "GaNpFEKqusHd"
      },
      "source": [
        "## Create Confusion Matrix"
      ]
    },
    {
      "cell_type": "code",
      "metadata": {
        "id": "aqBjTAKqc739"
      },
      "source": [
        "def covariance_matrix_wine_data(X):\n",
        "    m, n = X.shape \n",
        "    mean = X.mean(axis=0)\n",
        "    cov_matrix = (X - mean).T.dot((X - mean)) / m\n",
        "    return cov_matrix \n",
        "cov_mat_wine = np.array(covariance_matrix_wine_data(X)) #Covariance Matrix\n",
        "cov_mat_inv_wine = np.linalg.inv(cov_mat_wine) #Covariance Matrix Inverse\n",
        "cov_mat_det_wine = np.linalg.det(cov_mat_wine) #Covariance Matrix Determinant"
      ],
      "execution_count": null,
      "outputs": []
    },
    {
      "cell_type": "markdown",
      "metadata": {
        "id": "6EenEtuwvER0"
      },
      "source": [
        "## Calculate Distance Using Mahalanobis"
      ]
    },
    {
      "cell_type": "code",
      "metadata": {
        "id": "4413X8vxf1uR"
      },
      "source": [
        "def mahalanobis_distance_knn(x):\n",
        "    n = len(cov_mat_wine)\n",
        "    return (np.exp(-0.5 * np.dot(x.T, np.dot(cov_mat_inv_wine, x))) \n",
        "            / (2 * np.pi)**(n/2) \n",
        "            / np.sqrt(cov_mat_det_wine))"
      ],
      "execution_count": null,
      "outputs": []
    },
    {
      "cell_type": "markdown",
      "metadata": {
        "id": "s6L6t5amvWGG"
      },
      "source": [
        "## K-fold cross-validation (K=5 for this example)"
      ]
    },
    {
      "cell_type": "code",
      "metadata": {
        "id": "u6MvEwc8UtDp"
      },
      "source": [
        "def KFoldSplit(data, K,randomseed):\n",
        "  random.seed(randomseed)\n",
        "  data_split = list()\n",
        "  data_copy = list(data)\n",
        "  fold_size = int(len(data) / K) #Each fold size\n",
        "  for _ in range(K):\n",
        "    fold = list()\n",
        "    while len(fold) < fold_size:\n",
        "      index = randrange(len(data_copy)) #Create random index\n",
        "      fold.append(data_copy.pop(index))\n",
        "    data_split.append(fold) \n",
        "  return data_split"
      ],
      "execution_count": null,
      "outputs": []
    },
    {
      "cell_type": "markdown",
      "metadata": {
        "id": "L17ZQeFiv-ni"
      },
      "source": [
        "## Calculate Mean Absolute Error"
      ]
    },
    {
      "cell_type": "code",
      "metadata": {
        "id": "5m-G-nOW8XaI"
      },
      "source": [
        "def mean_absolute_error(y_test, y_pred):\n",
        "\ttotal = 0\n",
        "\tfor i in range(len(y_test)):\n",
        "\t\ttotal += abs(y_pred[i] - y_test[i])\n",
        "\treturn total / float(len(y_test))"
      ],
      "execution_count": null,
      "outputs": []
    },
    {
      "cell_type": "markdown",
      "metadata": {
        "id": "unyc9a6N0G36"
      },
      "source": [
        "## Scale Data"
      ]
    },
    {
      "cell_type": "code",
      "metadata": {
        "id": "M0MF_LtPkz5b"
      },
      "source": [
        "def scale(X):\n",
        "    new = X - np.mean(X, axis=0)\n",
        "    return new / np.std(new, axis=0)"
      ],
      "execution_count": null,
      "outputs": []
    },
    {
      "cell_type": "code",
      "metadata": {
        "id": "nB69ZvBPQidw"
      },
      "source": [
        "def Kfold_KNN(data,K,k,randomseed):\n",
        "  \"\"\"\n",
        "  K: number of fold\n",
        "  k: number of neighbours\n",
        "\n",
        "  \"\"\"\n",
        "  data_fold = KFoldSplit(data, K,randomseed)\n",
        "\n",
        "  mae_scores = list()\n",
        "  accuracy = list()\n",
        "  for index, fold in enumerate(data_fold):\n",
        "    #Create Train Data set for each fold\n",
        "    trainFolds = list(data_fold)\n",
        "    trainFolds.pop(index)\n",
        "    trainFolds = sum(trainFolds,[])\n",
        "\n",
        "    #Create Test Data set for each fold\n",
        "    testFold = list()\n",
        "    for row in fold:\n",
        "      rows = list(row)\n",
        "      testFold.append(rows)\n",
        "    \n",
        "    #Xtrain and Xtest data different for each fold \n",
        "    X_train = [train_rows[:-1] for train_rows in trainFolds]\n",
        "    y_train = [target_rows[-1] for target_rows in trainFolds]   \n",
        "    \n",
        "    X_test = [test_rows[:-1] for test_rows in testFold]\n",
        "    y_test = [target_rows[-1] for target_rows in testFold]\n",
        "    \n",
        "    X_train = scale(X_train)\n",
        "    X_test = scale(X_test)\n",
        "\n",
        "    predictions = list()\n",
        "    \n",
        "    for test_row in X_test:\n",
        "      distances = list()\n",
        "      test_row = np.array(test_row)\n",
        "      \n",
        "      for train_row,train_target in zip(X_train,y_train):\n",
        "        train_row = np.array(train_row)\n",
        "        dist = 0\n",
        "        dist = mahalanobis_distance_knn((test_row - train_row)) # Calculate distance using mahalanobis metric\n",
        "        distances.append([dist,train_target])\n",
        "\n",
        "      distances.sort(key=operator.itemgetter(0)) # Sort the distances\n",
        "      k_neighbors = distances[:k] # Choosing for the first k element\n",
        "      \n",
        "      y_pred = [row[-1] for row in k_neighbors]\n",
        "      prediction = max(set(y_pred), key=y_pred.count) # Find the most frequency target variable\n",
        "      predictions.append(prediction)\n",
        "    \n",
        "    mae_score = mean_absolute_error(y_test, predictions) # Calculate mean absolute error for each k fold\n",
        "    mae_scores += [mae_score]\n",
        "\n",
        "\n",
        "  return mae_scores\n"
      ],
      "execution_count": null,
      "outputs": []
    },
    {
      "cell_type": "markdown",
      "metadata": {
        "id": "ajaqb4HpwteM"
      },
      "source": [
        "\n",
        "- K = 5 (Number of Folds)\n",
        "\n",
        "- k = 2 (Number of neighbours)\n",
        "\n",
        "- Calculate Mean Absolute Error\n"
      ]
    },
    {
      "cell_type": "code",
      "metadata": {
        "colab": {
          "base_uri": "https://localhost:8080/"
        },
        "id": "lM-Op-3NWNN8",
        "outputId": "bdd0e934-9fb2-466f-82b0-85aa22aec6f3"
      },
      "source": [
        "mae_score = Kfold_KNN(wine_data_arr,K=5,k=2,randomseed=2021)\n",
        "mae_score"
      ],
      "execution_count": null,
      "outputs": [
        {
          "output_type": "execute_result",
          "data": {
            "text/plain": [
              "[0.7429467084639498,\n",
              " 0.6896551724137931,\n",
              " 0.7492163009404389,\n",
              " 0.7021943573667712,\n",
              " 0.7586206896551724]"
            ]
          },
          "metadata": {
            "tags": []
          },
          "execution_count": 60
        }
      ]
    }
  ]
}